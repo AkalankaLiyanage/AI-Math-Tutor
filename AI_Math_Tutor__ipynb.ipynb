# Step 1: Install required libraries (run this once in Google Colab)
!pip install transformers gradio

# Step 2: Import libraries
from transformers import pipeline, set_seed
import gradio as gr

# Step 3: Load the DistilGPT-2 text generation model
generator = pipeline('text-generation', model='distilgpt2')
set_seed(42)

# Step 4: Define the function to generate explanations
def generate_math_explanation(prompt, max_length, temperature):
    preamble = (
        "You are a friendly math tutor for middle school students. "
        "Explain the following question clearly and step-by-step:\n\n"
    )
    final_prompt = preamble + prompt
    result = generator(final_prompt, max_length=max_length, temperature=temperature, num_return_sequences=1)
    return result[0]['generated_text'].replace(preamble, "")

# Step 5: Build the Gradio interface
description = "Ask a math question and get a simple, clear explanation. Great for middle school learners!"

demo = gr.Interface(
    fn=generate_math_explanation,
    inputs=[
        gr.Textbox(lines=2, label="Enter your math question"),
        gr.Slider(50, 150, value=80, label="Max Length"),
        gr.Slider(0.1, 1.0, value=0.7, label="Creativity (Temperature)")
    ],
    outputs="text",
    title="🧮 AI Math Tutor By Akalanka_M23W7266 \n",
    description=description,
    examples=[
        ["What is the difference between area and perimeter?", 80, 0.7],
        ["Solve for x: 3x - 5 = 10", 80, 0.8],
        ["Explain the Pythagorean theorem", 80, 0.7],
        ["What are prime numbers?", 80, 0.7]
    ]
)

# Step 6: Launch the app
demo.launch()
