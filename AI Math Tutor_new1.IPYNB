# Step 1: Install Required Libraries
!pip install transformers gradio --quiet

# Step 2: Import Libraries
from transformers import pipeline, set_seed
import gradio as gr

# Step 3: Load DistilGPT-2 Text Generator
generator = pipeline("text-generation", model="distilgpt2")
set_seed(42)

# Step 4: Define Math Helper Function
def generate_math_explanation(prompt, max_length=100, temperature=0.8):
    full_prompt = f"Explain this math problem clearly for a student: {prompt}"
    result = generator(full_prompt, max_length=max_length, num_return_sequences=1, temperature=temperature)
    return result[0]['generated_text']

# Step 5: Build Gradio Interface
demo = gr.Interface(
    fn=generate_math_explanation,
    inputs=[
        gr.Textbox(label="Enter your math question"),
        gr.Slider(minimum=50, maximum=200, step=10, value=100, label="Response Length"),
        gr.Slider(minimum=0.1, maximum=1.0, step=0.1, value=0.8, label="Creativity (Temperature)")
    ],
    outputs="text",
    title="🧮 AI Math Tutor",
    description="Ask a math question and get a student-friendly explanation!"
)

# Step 6: Launch App
demo.launch()
